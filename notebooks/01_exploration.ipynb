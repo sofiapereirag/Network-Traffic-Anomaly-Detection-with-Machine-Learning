{
 "cells": [
  {
   "cell_type": "markdown",
   "id": "e4b1fcd6",
   "metadata": {},
   "source": [
    "# Network Traffic Anomaly Detection – Data Exploration\n",
    "\n",
    "In this notebook, we explore the CICIDS2017 dataset and:\n",
    "\n",
    "- Perform basic data exploration and visualization of network traffic classes.\n",
    "- Create a binary target variable to distinguish between attack and benign traffic.\n",
    "- Clean the dataset by removing irrelevant columns and handling missing values.\n",
    "- Prepare the dataset for machine learning by selecting features, normalizing them, and splitting the data into training and testing sets.\n",
    "\n",
    "This step is essential to understand the dataset structure and ensure the data is clean and ready for modeling.\n"
   ]
  },
  {
   "cell_type": "code",
   "execution_count": 1,
   "id": "bd7e2864",
   "metadata": {},
   "outputs": [],
   "source": [
    "import sys\n",
    "import os\n",
    "sys.path.append(os.path.abspath(\"../src\"))\n",
    "\n",
    "from utils import load_data_files, load_data_file, display_data_info, display_distribution\n",
    "\n",
    "from preprocess import (\n",
    "    clean_data, \n",
    "    handle_infinite_values, \n",
    "    apply_and_save_scaler,\n",
    "    separate_features_and_target,\n",
    "    split_data\n",
    ")"
   ]
  },
  {
   "cell_type": "code",
   "execution_count": 2,
   "id": "51645bd7",
   "metadata": {},
   "outputs": [
    {
     "name": "stdout",
     "output_type": "stream",
     "text": [
      "\n",
      " ' Attack' column created with value counts: Attack\n",
      "1    28359\n",
      "0    21641\n",
      "Name: count, dtype: int64\n",
      "\n",
      " ' Attack' column created with value counts: Attack\n",
      "1    27877\n",
      "0    22123\n",
      "Name: count, dtype: int64\n",
      "\n",
      " ' Attack' column created with value counts: Attack\n",
      "0    48483\n",
      "1     1517\n",
      "Name: count, dtype: int64\n",
      "\n",
      " ' Attack' column created with value counts: Attack\n",
      "0    31530\n",
      "1    18470\n",
      "Name: count, dtype: int64\n"
     ]
    }
   ],
   "source": [
    "file_path1 = \"../data/Friday-WorkingHours-Afternoon-DDos.pcap_ISCX.csv\"\n",
    "file_path2 = \"../data/Friday-WorkingHours-Afternoon-PortScan.pcap_ISCX.csv\"\n",
    "file_path3 = \"../data/Tuesday-WorkingHours.pcap_ISCX.csv\"\n",
    "file_path4 = \"../data/Wednesday-workingHours.pcap_ISCX.csv\"\n",
    "df1 = load_data_file(file_path1)\n",
    "df2 = load_data_file(file_path2)\n",
    "df3 = load_data_file(file_path3)\n",
    "df4 = load_data_file(file_path4)\n",
    "\n",
    "display_distribution(df1)\n",
    "display_distribution(df2)\n",
    "display_distribution(df3)\n",
    "display_distribution(df4)"
   ]
  },
  {
   "cell_type": "code",
   "execution_count": 3,
   "id": "acb5350d",
   "metadata": {},
   "outputs": [],
   "source": [
    "# Load dataset\n",
    "# Use the CICIDS2017 CSV files\n",
    "file_paths = [\n",
    "    \"../data/Friday-WorkingHours-Afternoon-DDos.pcap_ISCX.csv\",     # DDoS\n",
    "    \"../data/Friday-WorkingHours-Afternoon-PortScan.pcap_ISCX.csv\", # Port Scan\n",
    "    \"../data/Tuesday-WorkingHours.pcap_ISCX.csv\",                   # Brute Force (FTP & SSH)\n",
    "    \"../data/Wednesday-workingHours.pcap_ISCX.csv\"                  # DoS (Slowloris, Hulk, etc.)\n",
    "]\n",
    "df = load_data_files(file_paths)\n"
   ]
  },
  {
   "cell_type": "code",
   "execution_count": 4,
   "id": "b9c211f4",
   "metadata": {},
   "outputs": [
    {
     "name": "stdout",
     "output_type": "stream",
     "text": [
      "=== NUMBER OF ROWS ===\n",
      "200000\n",
      "\n",
      "=== DATA TYPES OF EACH COLUMN ===\n",
      "Destination Port                 int64\n",
      "Flow Duration                    int64\n",
      "Total Fwd Packets                int64\n",
      "Total Backward Packets           int64\n",
      "Total Length of Fwd Packets      int64\n",
      "                                ...   \n",
      "Idle Std                       float64\n",
      "Idle Max                         int64\n",
      "Idle Min                         int64\n",
      "Label                           object\n",
      "Attack                           int64\n",
      "Length: 80, dtype: object\n",
      "\n",
      "=== ALL COLUMN NAMES ===\n",
      "['Destination Port', 'Flow Duration', 'Total Fwd Packets', 'Total Backward Packets', 'Total Length of Fwd Packets', 'Total Length of Bwd Packets', 'Fwd Packet Length Max', 'Fwd Packet Length Min', 'Fwd Packet Length Mean', 'Fwd Packet Length Std', 'Bwd Packet Length Max', 'Bwd Packet Length Min', 'Bwd Packet Length Mean', 'Bwd Packet Length Std', 'Flow Bytes/s', 'Flow Packets/s', 'Flow IAT Mean', 'Flow IAT Std', 'Flow IAT Max', 'Flow IAT Min', 'Fwd IAT Total', 'Fwd IAT Mean', 'Fwd IAT Std', 'Fwd IAT Max', 'Fwd IAT Min', 'Bwd IAT Total', 'Bwd IAT Mean', 'Bwd IAT Std', 'Bwd IAT Max', 'Bwd IAT Min', 'Fwd PSH Flags', 'Bwd PSH Flags', 'Fwd URG Flags', 'Bwd URG Flags', 'Fwd Header Length', 'Bwd Header Length', 'Fwd Packets/s', 'Bwd Packets/s', 'Min Packet Length', 'Max Packet Length', 'Packet Length Mean', 'Packet Length Std', 'Packet Length Variance', 'FIN Flag Count', 'SYN Flag Count', 'RST Flag Count', 'PSH Flag Count', 'ACK Flag Count', 'URG Flag Count', 'CWE Flag Count', 'ECE Flag Count', 'Down/Up Ratio', 'Average Packet Size', 'Avg Fwd Segment Size', 'Avg Bwd Segment Size', 'Fwd Header Length.1', 'Fwd Avg Bytes/Bulk', 'Fwd Avg Packets/Bulk', 'Fwd Avg Bulk Rate', 'Bwd Avg Bytes/Bulk', 'Bwd Avg Packets/Bulk', 'Bwd Avg Bulk Rate', 'Subflow Fwd Packets', 'Subflow Fwd Bytes', 'Subflow Bwd Packets', 'Subflow Bwd Bytes', 'Init_Win_bytes_forward', 'Init_Win_bytes_backward', 'act_data_pkt_fwd', 'min_seg_size_forward', 'Active Mean', 'Active Std', 'Active Max', 'Active Min', 'Idle Mean', 'Idle Std', 'Idle Max', 'Idle Min', 'Label', 'Attack']\n",
      "\n",
      " ' Attack' column created with value counts: Attack\n",
      "0    124086\n",
      "1     75914\n",
      "Name: count, dtype: int64\n"
     ]
    },
    {
     "data": {
      "image/png": "[encoded data removed]",
      "text/plain": [
       "<Figure size 640x480 with 1 Axes>"
      ]
     },
     "metadata": {},
     "output_type": "display_data"
    }
   ],
   "source": [
    "# Display DATASET information\n",
    "display_data_info(df)"
   ]
  },
  {
   "cell_type": "code",
   "execution_count": 5,
   "id": "3e7a9412",
   "metadata": {},
   "outputs": [
    {
     "name": "stdout",
     "output_type": "stream",
     "text": [
      "Removed rows with missing values. Remaining rows: 199904\n"
     ]
    }
   ],
   "source": [
    "# Clean the dataset\n",
    "df = clean_data(df)"
   ]
  },
  {
   "cell_type": "code",
   "execution_count": 6,
   "id": "86c660f8",
   "metadata": {},
   "outputs": [
    {
     "name": "stdout",
     "output_type": "stream",
     "text": [
      "=== NUMBER OF ROWS ===\n",
      "199904\n",
      "\n",
      "=== DATA TYPES OF EACH COLUMN ===\n",
      "Flow Duration                    int64\n",
      "Total Fwd Packets                int64\n",
      "Total Backward Packets           int64\n",
      "Total Length of Fwd Packets      int64\n",
      "Total Length of Bwd Packets      int64\n",
      "                                ...   \n",
      "Idle Mean                      float64\n",
      "Idle Std                       float64\n",
      "Idle Max                         int64\n",
      "Idle Min                         int64\n",
      "Attack                           int64\n",
      "Length: 71, dtype: object\n",
      "\n",
      "=== ALL COLUMN NAMES ===\n",
      "['Flow Duration', 'Total Fwd Packets', 'Total Backward Packets', 'Total Length of Fwd Packets', 'Total Length of Bwd Packets', 'Fwd Packet Length Max', 'Fwd Packet Length Min', 'Fwd Packet Length Mean', 'Fwd Packet Length Std', 'Bwd Packet Length Max', 'Bwd Packet Length Min', 'Bwd Packet Length Mean', 'Bwd Packet Length Std', 'Flow Bytes/s', 'Flow Packets/s', 'Flow IAT Mean', 'Flow IAT Std', 'Flow IAT Max', 'Flow IAT Min', 'Fwd IAT Total', 'Fwd IAT Mean', 'Fwd IAT Std', 'Fwd IAT Max', 'Fwd IAT Min', 'Bwd IAT Total', 'Bwd IAT Mean', 'Bwd IAT Std', 'Bwd IAT Max', 'Bwd IAT Min', 'Fwd PSH Flags', 'Bwd PSH Flags', 'Fwd URG Flags', 'Bwd URG Flags', 'Fwd Header Length', 'Bwd Header Length', 'Fwd Packets/s', 'Bwd Packets/s', 'Min Packet Length', 'Max Packet Length', 'Packet Length Mean', 'Packet Length Std', 'Packet Length Variance', 'FIN Flag Count', 'SYN Flag Count', 'RST Flag Count', 'PSH Flag Count', 'ACK Flag Count', 'URG Flag Count', 'CWE Flag Count', 'ECE Flag Count', 'Down/Up Ratio', 'Average Packet Size', 'Avg Fwd Segment Size', 'Avg Bwd Segment Size', 'Subflow Fwd Packets', 'Subflow Fwd Bytes', 'Subflow Bwd Packets', 'Subflow Bwd Bytes', 'Init_Win_bytes_forward', 'Init_Win_bytes_backward', 'act_data_pkt_fwd', 'min_seg_size_forward', 'Active Mean', 'Active Std', 'Active Max', 'Active Min', 'Idle Mean', 'Idle Std', 'Idle Max', 'Idle Min', 'Attack']\n",
      "\n",
      " ' Attack' column created with value counts: Attack\n",
      "0    124061\n",
      "1     75843\n",
      "Name: count, dtype: int64\n"
     ]
    },
    {
     "data": {
      "image/png": "[encoded data removed]",
      "text/plain": [
       "<Figure size 640x480 with 1 Axes>"
      ]
     },
     "metadata": {},
     "output_type": "display_data"
    }
   ],
   "source": [
    "# Display the outputs that weren't shown in the previous cell\n",
    "display_data_info(df)"
   ]
  },
  {
   "cell_type": "code",
   "execution_count": 7,
   "id": "bfb98688",
   "metadata": {},
   "outputs": [],
   "source": [
    "# Separete features and target variable\n",
    "X, y = separate_features_and_target(df)"
   ]
  },
  {
   "cell_type": "code",
   "execution_count": 8,
   "id": "7fc08d22",
   "metadata": {},
   "outputs": [
    {
     "name": "stdout",
     "output_type": "stream",
     "text": [
      "\n",
      "--- FEATURES (X) ---\n",
      "199904 rows and 70 columns\n",
      "\n",
      "--- TARGET VARIABLE (y) ---\n",
      "199904 rows\n",
      "shape of dataset: (199904, 71)\n",
      "target balance: Attack\n",
      "0    124061\n",
      "1     75843\n",
      "Name: count, dtype: int64\n"
     ]
    }
   ],
   "source": [
    "# Display the features and target variable\n",
    "print(\"\\n--- FEATURES (X) ---\")\n",
    "print(len(X), \"rows and\", len(X.columns), \"columns\")\n",
    "print(\"\\n--- TARGET VARIABLE (y) ---\")\n",
    "print(len(y), \"rows\")\n",
    "\n",
    "print(\"shape of dataset:\", df.shape)\n",
    "print(\"target balance:\", y.value_counts())"
   ]
  },
  {
   "cell_type": "code",
   "execution_count": 8,
   "id": "ada6f7b8",
   "metadata": {},
   "outputs": [],
   "source": [
    "# # Save the cleaned dataset\n",
    "# df.to_csv(\"../data/cleaned_dataset.csv\", index=False)\n",
    "# print(\"\\nCleaned dataset saved to '../data/cleaned_dataset.csv'\")\n",
    "# # Save the features and target variable\n",
    "# X.to_csv(\"../data/X_data.csv\", index=False)\n",
    "# y.to_csv(\"../data/y_data.csv\", index=False)\n",
    "# print(\"\\nFeatures saved to '../data/X_data.csv'\")\n",
    "# print(\"Target variable saved to '../data/y_data.csv'\")"
   ]
  },
  {
   "cell_type": "code",
   "execution_count": 9,
   "id": "d12aa6b4",
   "metadata": {},
   "outputs": [
    {
     "name": "stdout",
     "output_type": "stream",
     "text": [
      "Checking for infinite values in the dataset:\n",
      "188\n",
      "Using StandardScaler for scaling features.\n",
      "Scaler saved as ../models/scalers/01_scaler.pkl.\n"
     ]
    }
   ],
   "source": [
    "# Normalize the dataset\n",
    "\n",
    "# Handle infinite values first\n",
    "X_clean = handle_infinite_values(X)\n",
    "\n",
    "# Scale the features\n",
    "X_scaled = apply_and_save_scaler(X_clean, '../models/scalers/01_scaler.pkl')\n"
   ]
  },
  {
   "cell_type": "code",
   "execution_count": 10,
   "id": "f94ec23a",
   "metadata": {},
   "outputs": [
    {
     "name": "stdout",
     "output_type": "stream",
     "text": [
      "Shape of scaled features (X_scaled): (199904, 70)\n",
      "Shape of target variable (y): (199904,)\n"
     ]
    }
   ],
   "source": [
    "# Print shape of the variables\n",
    "print(\"Shape of scaled features (X_scaled):\", X_scaled.shape)\n",
    "print(\"Shape of target variable (y):\", y.shape)"
   ]
  },
  {
   "cell_type": "code",
   "execution_count": 11,
   "id": "e9b92e31",
   "metadata": {},
   "outputs": [
    {
     "name": "stdout",
     "output_type": "stream",
     "text": [
      "Data split into training and testing sets.\n"
     ]
    }
   ],
   "source": [
    "# Divide the dataser into training and testing sets\n",
    "x_train, x_test, y_train, y_test = split_data(X_scaled, y)"
   ]
  },
  {
   "cell_type": "code",
   "execution_count": 12,
   "id": "11e70824",
   "metadata": {},
   "outputs": [
    {
     "name": "stdout",
     "output_type": "stream",
     "text": [
      "x_train: (159923, 70)\n",
      "x_test: (39981, 70)\n",
      "y_train: (159923,)\n",
      "y_test: (39981,)\n"
     ]
    }
   ],
   "source": [
    "# Print shape of all variables\n",
    "print(\"x_train:\", x_train.shape)\n",
    "print(\"x_test:\", x_test.shape)\n",
    "print(\"y_train:\", y_train.shape)\n",
    "print(\"y_test:\", y_test.shape)"
   ]
  }
 ],
 "metadata": {
  "kernelspec": {
   "display_name": "Python 3",
   "language": "python",
   "name": "python3"
  },
  "language_info": {
   "codemirror_mode": {
    "name": "ipython",
    "version": 3
   },
   "file_extension": ".py",
   "mimetype": "text/x-python",
   "name": "python",
   "nbconvert_exporter": "python",
   "pygments_lexer": "ipython3",
   "version": "3.11.9"
  }
 },
 "nbformat": 4,
 "nbformat_minor": 5
}
